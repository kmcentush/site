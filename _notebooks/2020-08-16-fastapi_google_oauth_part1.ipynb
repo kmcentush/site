{
 "cells": [
  {
   "cell_type": "markdown",
   "metadata": {},
   "source": [
    "# FastAPI with Google OAuth - Part 1\n",
    "> Implementing Google OAuth as your authentication layer in FastAPI.\n",
    "\n",
    "- toc: true\n",
    "- badges: true\n",
    "- comments: true\n",
    "- categories: [fastapi, google, oauth]\n",
    "- hide: false"
   ]
  },
  {
   "cell_type": "markdown",
   "metadata": {},
   "source": [
    "So you want to create a FastAPI application and protect it from unauthorized users. Thanks to Google OAuth and a few Python libraries, it's fairly straightforward to do so!\n",
    "\n",
    "The code for the tutorial can be found in this GitHub [repo](https://github.com/kmcentush/fastapi_tutorials/tree/master/google_oauth/part1_integration). I recommend cloning it as you follow along."
   ]
  },
  {
   "cell_type": "markdown",
   "metadata": {},
   "source": [
    "## Google OAuth Credentials"
   ]
  },
  {
   "cell_type": "markdown",
   "metadata": {},
   "source": [
    "### Making a New Project"
   ]
  },
  {
   "cell_type": "markdown",
   "metadata": {},
   "source": [
    "Go to the [Google API & Services Dashboard](https://console.developers.google.com/apis/dashboard). In the top left corner, you'll see the project that you're currently in. Click on the little arrow to bring up the projects list, then click \"New Project\"."
   ]
  },
  {
   "cell_type": "markdown",
   "metadata": {},
   "source": [
    "![](https://raw.githubusercontent.com/kmcentush/fastapi_tutorials/master/google_oauth/part1_integration/imgs/google_proj_list.png)"
   ]
  },
  {
   "cell_type": "markdown",
   "metadata": {},
   "source": [
    "Fill in your desired project name and click \"Create\". Once it's done, click to view the project."
   ]
  },
  {
   "cell_type": "markdown",
   "metadata": {},
   "source": [
    "![](https://raw.githubusercontent.com/kmcentush/fastapi_tutorials/master/google_oauth/part1_integration/imgs/google_new_proj.png)"
   ]
  },
  {
   "cell_type": "markdown",
   "metadata": {},
   "source": [
    "![](https://raw.githubusercontent.com/kmcentush/fastapi_tutorials/master/google_oauth/part1_integration/imgs/google_view_proj.png)"
   ]
  },
  {
   "cell_type": "markdown",
   "metadata": {},
   "source": [
    "### Configuring the OAuth Consent Screen"
   ]
  },
  {
   "cell_type": "markdown",
   "metadata": {},
   "source": [
    "On the page, click the top left hamburger menu. Navigate to \"APIs & Services -> OAuth consent screen\"."
   ]
  },
  {
   "cell_type": "markdown",
   "metadata": {},
   "source": [
    "![](https://raw.githubusercontent.com/kmcentush/fastapi_tutorials/master/google_oauth/part1_integration/imgs/google_oauth_nav.png)"
   ]
  },
  {
   "cell_type": "markdown",
   "metadata": {},
   "source": [
    "Choose the type that best describes your application, then click \"Create\". For this tutorial, I'll be using the \"external\" type."
   ]
  },
  {
   "cell_type": "markdown",
   "metadata": {},
   "source": [
    "This page is where you can limit users to logging in only with their authorized emails. For example, if your organization's domain is \"company.com\", Google would only allow users to login with their \"name@company.com\" emails. Pretty cool, right?"
   ]
  },
  {
   "cell_type": "markdown",
   "metadata": {},
   "source": [
    "![](https://raw.githubusercontent.com/kmcentush/fastapi_tutorials/master/google_oauth/part1_integration/imgs/google_oauth_consent_type.png)"
   ]
  },
  {
   "cell_type": "markdown",
   "metadata": {},
   "source": [
    "On this page, enter in your application requirements. The application name and logo will show when the user logs in to the API, so pick something that you're happy with. You must enter a support email as well. I chose to leave the scopes on their default, as all the API we're building needs is their Google email and profile. I left the rest of the settings on their default for this tutorial and clicked \"save\"."
   ]
  },
  {
   "cell_type": "markdown",
   "metadata": {},
   "source": [
    "![](https://raw.githubusercontent.com/kmcentush/fastapi_tutorials/master/google_oauth/part1_integration/imgs/google_oauth_consent.png)"
   ]
  },
  {
   "cell_type": "markdown",
   "metadata": {},
   "source": [
    "### Generating OAuth 2.0 Client IDs"
   ]
  },
  {
   "cell_type": "markdown",
   "metadata": {},
   "source": [
    "Click on \"Credentials\" in the sidebar. Then, click \"Create Credentials\" at the top and select \"OAuth client ID\"."
   ]
  },
  {
   "cell_type": "markdown",
   "metadata": {},
   "source": [
    "![](https://raw.githubusercontent.com/kmcentush/fastapi_tutorials/master/google_oauth/part1_integration/imgs/google_oauth_cred_type.png)"
   ]
  },
  {
   "cell_type": "markdown",
   "metadata": {},
   "source": [
    "Select \"Web application\" for the type. Fill in the rest of the settings, then click \"Create\". \"Authorized JavaScript origins\" limit what sites can forward the user to the Google login, and \"authorized redirect URIs\" are where Google forwards the user back to after logging in. For this tutorial, I will be developing on my machine and running the application on port 8000 (thus, http://localhost:8000) and using the `auth` endpoint to handle the Google -> FastAPI application transaction. "
   ]
  },
  {
   "cell_type": "markdown",
   "metadata": {},
   "source": [
    "![](https://raw.githubusercontent.com/kmcentush/fastapi_tutorials/master/google_oauth/part1_integration/imgs/google_oauth_cred.png)"
   ]
  },
  {
   "cell_type": "markdown",
   "metadata": {},
   "source": [
    "You're just about done setting up OAuth! Once the client is created, copy the client ID and client secret into your .env file. The FastAPI application we're about to build will read this file for the necessary information to handle OAuth. If you're confused about the file structure, check the tutorial [repo](https://github.com/kmcentush/fastapi_tutorials/tree/master/google_oauth/part1_integration)."
   ]
  },
  {
   "cell_type": "markdown",
   "metadata": {},
   "source": [
    "![](https://raw.githubusercontent.com/kmcentush/fastapi_tutorials/master/google_oauth/part1_integration/imgs/google_oauth_secrets.png)"
   ]
  },
  {
   "cell_type": "markdown",
   "metadata": {},
   "source": [
    "## FastAPI"
   ]
  },
  {
   "cell_type": "markdown",
   "metadata": {},
   "source": [
    "### Imports"
   ]
  },
  {
   "cell_type": "markdown",
   "metadata": {},
   "source": [
    "At the top of our Python file, we have our imports."
   ]
  },
  {
   "cell_type": "code",
   "execution_count": 1,
   "metadata": {},
   "outputs": [],
   "source": [
    "from typing import Optional\n",
    "from fastapi import FastAPI, Depends, HTTPException\n",
    "from fastapi.openapi.docs import get_swagger_ui_html\n",
    "from fastapi.openapi.utils import get_openapi\n",
    "\n",
    "from starlette.config import Config\n",
    "from starlette.requests import Request\n",
    "from starlette.middleware.sessions import SessionMiddleware\n",
    "from starlette.responses import HTMLResponse, JSONResponse, RedirectResponse\n",
    "\n",
    "from authlib.integrations.starlette_client import OAuth"
   ]
  },
  {
   "cell_type": "markdown",
   "metadata": {},
   "source": [
    "The first `Optional` and `FastAPI` imports are standard among FastAPI applications. I want to explicitly call out `Depends` and `HTTPException`, which will be used to validate a user's login credentials prior to an API call."
   ]
  },
  {
   "cell_type": "markdown",
   "metadata": {},
   "source": [
    "The `Starlette` and `AuthLib` imports are the key to our Google OAuth implementation. They'll handle all of the heavy lifting, specifically the redirect URI generation and callback handling. Props to their developers as they make our implementation a breeze!"
   ]
  },
  {
   "cell_type": "markdown",
   "metadata": {},
   "source": [
    "### FastAPI Setup"
   ]
  },
  {
   "cell_type": "markdown",
   "metadata": {},
   "source": [
    "Here we initialize our `FastAPI` instance with a root homepage. I've disabled the default generated documentation because I plan to protect it behind our new user authentication layer later. If the user is not logged in, the pay will display a login link. If the user is logged in, the page will display their email address as well as links to the documentation and logout."
   ]
  },
  {
   "cell_type": "code",
   "execution_count": 2,
   "metadata": {},
   "outputs": [],
   "source": [
    "app = FastAPI(docs_url=None, redoc_url=None)\n",
    "app.add_middleware(SessionMiddleware, secret_key='!secret')\n",
    "\n",
    "@app.get('/')\n",
    "async def home(request: Request):\n",
    "    user = request.session.get('user')\n",
    "    if user is not None:\n",
    "        email = user['email']\n",
    "        html = (\n",
    "            f'<pre>Email: {email}</pre><br>'\n",
    "            '<a href=\"/docs\">documentation</a><br>'\n",
    "            '<a href=\"/logout\">logout</a>'\n",
    "        )\n",
    "        return HTMLResponse(html)\n",
    "    return HTMLResponse('<a href=\"/login\">login</a>')"
   ]
  },
  {
   "cell_type": "markdown",
   "metadata": {},
   "source": [
    "Rather than saving our authentication to a cookie manually, I've opted to use Starlettes's `SessionMiddleware`. I specified a secret key that will be used to encode/decode the cookie. In actual applications, I highly recommended using a more secure key and saving it to an environment/config file. Hardcoding secrets, keys, database credentials, etc. in your files is both bad practice and a security risk."
   ]
  },
  {
   "cell_type": "markdown",
   "metadata": {},
   "source": [
    "FastAPI has good [documentation](https://fastapi.tiangolo.com/tutorial/middleware/) on middleware, and the key thing to note is that it can perform operations on requests prior to being passed through to the rest of the application as well before delivering responses. Starlette's `SessionMiddleware` [documentation](https://www.starlette.io/middleware/#sessionmiddleware) explains how it utilizes this technique to add a signed cookie to the user session that is readable but not modifiable. Still confused about what middleware is? Check out the diagram below."
   ]
  },
  {
   "cell_type": "markdown",
   "metadata": {},
   "source": [
    "![](https://miro.medium.com/max/1358/1*4nJJgPOnlJwD6s-7ygqgTg.jpeg \"Source: https://medium.com/@tony_starkk/laravel-5-8-middleware-tutorial-with-example-2019-9f5069b8c3cc\")"
   ]
  },
  {
   "cell_type": "markdown",
   "metadata": {},
   "source": [
    "### Google OAuth Implementation"
   ]
  },
  {
   "cell_type": "markdown",
   "metadata": {},
   "source": [
    "With `AuthLib`, it doesn't take much work to implement Google OAuth into our FastAPI application. After loading our client ID and client secret from our configuration file, we register it with the following scopes:\n",
    "* `openid`: required by Google's OpenID Connect API\n",
    "* `email`: grants the application access to the user's email address\n",
    "* `profile`: grants the applicattion acess to the user's profile, such as name and profile picture link\n",
    "\n",
    "For more information on the allowed scopes, please check out Google's [documentation](https://developers.google.com/identity/protocols/oauth2/openid-connect)."
   ]
  },
  {
   "cell_type": "code",
   "execution_count": 3,
   "metadata": {},
   "outputs": [],
   "source": [
    "# Initialize our OAuth instance from the client ID and client secret specified in our .env file\n",
    "config = Config('.env')\n",
    "oauth = OAuth(config)\n",
    "\n",
    "CONF_URL = 'https://accounts.google.com/.well-known/openid-configuration'\n",
    "oauth.register(\n",
    "    name='google',\n",
    "    server_metadata_url=CONF_URL,\n",
    "    client_kwargs={\n",
    "        'scope': 'openid email profile'\n",
    "    }\n",
    ")\n",
    "\n",
    "\n",
    "@app.get('/login', tags=['authentication'])  # Tag it as \"authentication\" for our docs\n",
    "async def login(request: Request):\n",
    "    # Redirect Google OAuth back to our application\n",
    "    redirect_uri = request.url_for('auth')\n",
    "\n",
    "    return await oauth.google.authorize_redirect(request, redirect_uri)\n",
    "\n",
    "\n",
    "@app.route('/auth')\n",
    "async def auth(request: Request):\n",
    "    # Perform Google OAuth\n",
    "    token = await oauth.google.authorize_access_token(request)\n",
    "    user = await oauth.google.parse_id_token(request, token)\n",
    "\n",
    "    # Save the user\n",
    "    request.session['user'] = dict(user)\n",
    "\n",
    "    return RedirectResponse(url='/')\n",
    "\n",
    "\n",
    "@app.get('/logout', tags=['authentication'])  # Tag it as \"authentication\" for our docs\n",
    "async def logout(request: Request):\n",
    "    # Remove the user\n",
    "    request.session.pop('user', None)\n",
    "\n",
    "    return RedirectResponse(url='/')"
   ]
  },
  {
   "cell_type": "markdown",
   "metadata": {},
   "source": [
    "With our OAuth registered, we next define three endpoints: `login`, `auth`, and `logout`. They do exactly what their names suggest. `login` redirects to Google's sign-in page and then back to our FastAPI application once the user is logged in. Next, `auth` handles this incoming user access token and saves the user to a cookie thanks to our `SessionMiddleware` from earlier. Lastly, `logout` clears the user cookie from the session and resets our application back to the start."
   ]
  },
  {
   "cell_type": "markdown",
   "metadata": {},
   "source": [
    "At this point, we have functioning Google OAuth in our FastAPI application! By starting up our FastAPI application and heading to http://localhost:8000/ (this is the default URL from the `uvicorn` library; see their [documentation](https://www.uvicorn.org/)), we should see the following:"
   ]
  },
  {
   "cell_type": "markdown",
   "metadata": {},
   "source": [
    "![](https://raw.githubusercontent.com/kmcentush/fastapi_tutorials/master/google_oauth/part1_integration/imgs/login.png \"Our homepage when a user is not logged in\")"
   ]
  },
  {
   "cell_type": "markdown",
   "metadata": {},
   "source": [
    "Clicking the login link will take us to the Google OAuth sigin-in page."
   ]
  },
  {
   "cell_type": "markdown",
   "metadata": {},
   "source": [
    "![](https://raw.githubusercontent.com/kmcentush/fastapi_tutorials/master/google_oauth/part1_integration/imgs/google_oauth.png \"The Google OAuth sign-in page\")"
   ]
  },
  {
   "cell_type": "markdown",
   "metadata": {},
   "source": [
    "After signing in, we'll be redirected back to our application. Notice that the home page now shows the documentation link as well as the the logout link. If you click the logout link, you'll be redirected back to where we started. If you click the documentation link, you'll get a dead link."
   ]
  },
  {
   "cell_type": "markdown",
   "metadata": {},
   "source": [
    "![](https://raw.githubusercontent.com/kmcentush/fastapi_tutorials/master/google_oauth/part1_integration/imgs/authorized.png \"Our hompeage when a user is logged in\")"
   ]
  },
  {
   "cell_type": "markdown",
   "metadata": {},
   "source": [
    "![](https://raw.githubusercontent.com/kmcentush/fastapi_tutorials/master/google_oauth/part1_integration/imgs/dead_docs.png \"A dead link to our documentation page\")"
   ]
  },
  {
   "cell_type": "markdown",
   "metadata": {},
   "source": [
    "That's because after disabling FastAPI's autogenerated documentation, we never reimplemented it in our application! Let's fix that, protecting it with an authentication layer while we're at it."
   ]
  },
  {
   "cell_type": "markdown",
   "metadata": {},
   "source": [
    "### Protected Docs"
   ]
  },
  {
   "cell_type": "markdown",
   "metadata": {},
   "source": [
    "To implement our documentation, we'll copy the structure of the autogenerated FastAPI documenation while making use of the `Depends` class. Thanks to FastAPI, we can write a single function that will check for an authenticated user before displaying the documentation. If no user is logged in, it will throw an HTTP 403 error. For more information on FastAPI dependencies, check out the [documentation](https://fastapi.tiangolo.com/tutorial/dependencies/)."
   ]
  },
  {
   "cell_type": "code",
   "execution_count": 4,
   "metadata": {},
   "outputs": [],
   "source": [
    "# Try to get the logged in user\n",
    "async def get_user(request: Request) -> Optional[dict]:\n",
    "    user = request.session.get('user')\n",
    "    if user is not None:\n",
    "        return user\n",
    "    else:\n",
    "        raise HTTPException(status_code=403, detail='Could not validate credentials.')\n",
    "\n",
    "    return None\n",
    "\n",
    "\n",
    "@app.route('/openapi.json')\n",
    "async def get_open_api_endpoint(request: Request, user: Optional[dict] = Depends(get_user)):  # This dependency protects our endpoint!\n",
    "    response = JSONResponse(get_openapi(title='FastAPI', version=1, routes=app.routes))\n",
    "    return response\n",
    "\n",
    "\n",
    "@app.get('/docs', tags=['documentation'])  # Tag it as \"documentation\" for our docs\n",
    "async def get_documentation(request: Request, user: Optional[dict] = Depends(get_user)):  # This dependency protects our endpoint!\n",
    "    response = get_swagger_ui_html(openapi_url='/openapi.json', title='Documentation')\n",
    "    return response"
   ]
  },
  {
   "cell_type": "markdown",
   "metadata": {},
   "source": [
    "Check this out: if we restart our API and navigate to the documentation page again (**note:** you may need to log in again if your cookie expired), you'll see this awesome documentation page generated by FastAPI."
   ]
  },
  {
   "cell_type": "markdown",
   "metadata": {},
   "source": [
    "![](https://raw.githubusercontent.com/kmcentush/fastapi_tutorials/master/google_oauth/part1_integration/imgs/auth_protected_docs.png \"Our documentation page when a user is logged in\")"
   ]
  },
  {
   "cell_type": "markdown",
   "metadata": {},
   "source": [
    "To illustrate that it's protected, go back to the homepage and logout. Then, manually type in the documentation URL. You should get the HTTP 403 error that we defined."
   ]
  },
  {
   "cell_type": "markdown",
   "metadata": {},
   "source": [
    "![](https://raw.githubusercontent.com/kmcentush/fastapi_tutorials/master/google_oauth/part1_integration/imgs/unauth_protected_docs.png \"Our documentation page when a user is not logged in\")"
   ]
  },
  {
   "cell_type": "markdown",
   "metadata": {},
   "source": [
    "And that's it! We successfuly created a FastAPI application with an Google OAuth authentication layer wrapped on top of it!"
   ]
  },
  {
   "cell_type": "markdown",
   "metadata": {},
   "source": [
    "## Credits"
   ]
  },
  {
   "cell_type": "markdown",
   "metadata": {},
   "source": [
    "This tutorial is based on work originally written by Nils de Bruin on [Medium](https://medium.com/data-rebels/fastapi-google-as-an-external-authentication-provider-3a527672cf33). The `AuthLib` Google OAuth code is adapted from their [blog post](https://blog.authlib.org/2020/fastapi-google-login)."
   ]
  }
 ],
 "metadata": {
  "kernelspec": {
   "display_name": "FastAPI",
   "language": "python",
   "name": "fastapi"
  },
  "language_info": {
   "codemirror_mode": {
    "name": "ipython",
    "version": 3
   },
   "file_extension": ".py",
   "mimetype": "text/x-python",
   "name": "python",
   "nbconvert_exporter": "python",
   "pygments_lexer": "ipython3",
   "version": "3.7.8"
  }
 },
 "nbformat": 4,
 "nbformat_minor": 4
}
