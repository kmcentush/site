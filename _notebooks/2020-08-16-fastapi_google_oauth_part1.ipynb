{
 "cells": [
  {
   "cell_type": "markdown",
   "metadata": {},
   "source": [
    "# FastAPI Authentication with Google OAuth - Part 1\n",
    "> Using Google OAuth as your authentication layer in FastAPI.\n",
    "\n",
    "- toc: true\n",
    "- badges: true\n",
    "- comments: true\n",
    "- categories: [fastapi, google, oauth]\n",
    "- hide: false"
   ]
  },
  {
   "cell_type": "markdown",
   "metadata": {},
   "source": [
    "## background"
   ]
  },
  {
   "cell_type": "markdown",
   "metadata": {},
   "source": [
    "tbd"
   ]
  },
  {
   "cell_type": "markdown",
   "metadata": {},
   "source": [
    "## Google OAuth Credentials"
   ]
  },
  {
   "cell_type": "markdown",
   "metadata": {},
   "source": [
    "TODO; .env file"
   ]
  },
  {
   "cell_type": "markdown",
   "metadata": {},
   "source": [
    "## FastAPI"
   ]
  },
  {
   "cell_type": "markdown",
   "metadata": {},
   "source": [
    "### Imports"
   ]
  },
  {
   "cell_type": "markdown",
   "metadata": {},
   "source": [
    "At the top of our Python file, we have our imports."
   ]
  },
  {
   "cell_type": "code",
   "execution_count": 1,
   "metadata": {},
   "outputs": [],
   "source": [
    "from typing import Optional\n",
    "from fastapi import FastAPI, Depends, HTTPException\n",
    "from fastapi.openapi.docs import get_swagger_ui_html\n",
    "from fastapi.openapi.utils import get_openapi\n",
    "\n",
    "from starlette.config import Config\n",
    "from starlette.requests import Request\n",
    "from starlette.middleware.sessions import SessionMiddleware\n",
    "from starlette.responses import HTMLResponse, JSONResponse, RedirectResponse\n",
    "\n",
    "from authlib.integrations.starlette_client import OAuth"
   ]
  },
  {
   "cell_type": "markdown",
   "metadata": {},
   "source": [
    "The first `Optional` and `FastAPI` imports are standard among FastAPI applications. I want to explicitly call out `Depends` and `HTTPException`, which will be used to validate a user's login credentials prior to an API call."
   ]
  },
  {
   "cell_type": "markdown",
   "metadata": {},
   "source": [
    "The `Starlette` and `AuthLib` imports are the key to our Google OAuth implementation. They'll handle all of the heavy lifting, specifically the redirect URI generation and callback handling. Props to their developers as they make our implementation a breeze!"
   ]
  },
  {
   "cell_type": "markdown",
   "metadata": {},
   "source": [
    "### FastAPI Setup"
   ]
  },
  {
   "cell_type": "markdown",
   "metadata": {},
   "source": [
    "Here we initialize our `FastAPI` instance with a root homepage. If the user is not logged in, it will display a login link. If the user is logged in, it will display their email address as well as links to the documentation and logout."
   ]
  },
  {
   "cell_type": "code",
   "execution_count": 3,
   "metadata": {},
   "outputs": [],
   "source": [
    "app = FastAPI(docs_url=None, redoc_url=None)\n",
    "app.add_middleware(SessionMiddleware, secret_key='!secret')\n",
    "\n",
    "@app.get('/')\n",
    "async def home(request: Request):\n",
    "    user = request.session.get('user')\n",
    "    if user is not None:\n",
    "        email = user['email']\n",
    "        html = (\n",
    "            f'<pre>Email: {email}</pre><br>'\n",
    "            '<a href=\"/docs\">documentation</a><br>'\n",
    "            '<a href=\"/logout\">logout</a>'\n",
    "        )\n",
    "        return HTMLResponse(html)\n",
    "    return HTMLResponse('<a href=\"/login\">login</a>')"
   ]
  },
  {
   "cell_type": "markdown",
   "metadata": {},
   "source": [
    "Rather than saving our authentication to a cookie manually, I've opted to use Starlettes's `SessionMiddleware`. FastAPI has good [documentation](https://fastapi.tiangolo.com/tutorial/middleware/) on middleware, and the key thing to note is that it can perform operations on requests prior to being passed through to the rest of the application as well before delivering responses. Starlette's `SessionMiddleware` [documentation](https://www.starlette.io/middleware/#sessionmiddleware) explains how it utilizes this technique to add a signed cookie to the user session that is readable but not modifiable. Still confused about what middleware is? Check out the diagram below."
   ]
  },
  {
   "cell_type": "markdown",
   "metadata": {},
   "source": [
    "<center><img src=\"https://miro.medium.com/max/1358/1*4nJJgPOnlJwD6s-7ygqgTg.jpeg\" width=70%></center>\n",
    "Image source: <a href=\"https://medium.com/@tony_starkk/laravel-5-8-middleware-tutorial-with-example-2019-9f5069b8c3cc\">link</a>"
   ]
  },
  {
   "cell_type": "markdown",
   "metadata": {},
   "source": [
    "### Google OAuth Implementation"
   ]
  },
  {
   "cell_type": "markdown",
   "metadata": {},
   "source": [
    "### Protected Docs"
   ]
  },
  {
   "cell_type": "markdown",
   "metadata": {},
   "source": [
    "## Credits"
   ]
  },
  {
   "cell_type": "markdown",
   "metadata": {},
   "source": [
    "This tutorial is based on work originally written by Nils de Bruin on [Medium](https://medium.com/data-rebels/fastapi-google-as-an-external-authentication-provider-3a527672cf33)."
   ]
  },
  {
   "cell_type": "code",
   "execution_count": null,
   "metadata": {},
   "outputs": [],
   "source": []
  }
 ],
 "metadata": {
  "kernelspec": {
   "display_name": "FastAPI",
   "language": "python",
   "name": "fastapi"
  },
  "language_info": {
   "codemirror_mode": {
    "name": "ipython",
    "version": 3
   },
   "file_extension": ".py",
   "mimetype": "text/x-python",
   "name": "python",
   "nbconvert_exporter": "python",
   "pygments_lexer": "ipython3",
   "version": "3.7.8"
  }
 },
 "nbformat": 4,
 "nbformat_minor": 4
}
